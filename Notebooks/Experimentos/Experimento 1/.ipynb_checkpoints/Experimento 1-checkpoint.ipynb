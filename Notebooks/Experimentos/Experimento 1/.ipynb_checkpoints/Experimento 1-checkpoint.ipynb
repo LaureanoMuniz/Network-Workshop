{
 "cells": [
  {
   "cell_type": "code",
   "execution_count": null,
   "metadata": {},
   "outputs": [],
   "source": [
    "#!/usr/bin/env python3\n",
    "from scapy.all import *\n",
    "import numpy as np\n",
    "import pandas as pd"
   ]
  },
  {
   "cell_type": "markdown",
   "metadata": {},
   "source": [
    "# Experimento 1"
   ]
  },
  {
   "cell_type": "code",
   "execution_count": null,
   "metadata": {},
   "outputs": [],
   "source": [
    "def mostrar_fuente(S):\n",
    "    N = sum(S.values())\n",
    "    simbolos = sorted(S.items(), key=lambda x: -x[1])\n",
    "    print(\"\\n\".join([ \" %s : %.5f\" % (d,k/N) for d,k in simbolos ]))\n",
    "    print()"
   ]
  },
  {
   "cell_type": "code",
   "execution_count": null,
   "metadata": {},
   "outputs": [],
   "source": [
    "def callback(pkt, S1):\n",
    "    if pkt.haslayer(Ether):\n",
    "        dire = \"BROADCAST\" if pkt[Ether].dst==\"ff:ff:ff:ff:ff:ff\" else \"UNICAST\"\n",
    "        proto = pkt[Ether].type # El campo type del frame tiene el protocolo\n",
    "        \n",
    "        s_i = (dire, proto) # Aca se define el simbolo de la fuente\n",
    "        \n",
    "        if s_i not in S1:\n",
    "            S1[s_i] = 0.0\n",
    "        S1[s_i] += 1.0"
   ]
  },
  {
   "cell_type": "code",
   "execution_count": null,
   "metadata": {},
   "outputs": [],
   "source": [
    "S1 = {}\n",
    "\n",
    "sniff(count=10000, prn=lambda pkt:callback(pkt, S1))\n",
    "\n",
    "mostrar_fuente(S1)"
   ]
  },
  {
   "cell_type": "code",
   "execution_count": null,
   "metadata": {},
   "outputs": [],
   "source": [
    "df = pd.DataFrame([{\"Tipo destino\": dire, \"Protocolo\": proto, \"#Apariciones\": cantApariciones} for (dire, proto), cantApariciones in S1.items()])\n",
    "\n",
    "outputFolder = \"./Resultados/\"\n",
    "outputFileName = \"Experimento1-Fermin.csv\"\n",
    "\n",
    "outputPath = outputFolder + outputFileName\n",
    "\n",
    "df.to_csv(outputPath, index=False)\n",
    "df"
   ]
  }
 ],
 "metadata": {
  "kernelspec": {
   "display_name": "Python 3 (ipykernel)",
   "language": "python",
   "name": "python3"
  },
  "language_info": {
   "codemirror_mode": {
    "name": "ipython",
    "version": 3
   },
   "file_extension": ".py",
   "mimetype": "text/x-python",
   "name": "python",
   "nbconvert_exporter": "python",
   "pygments_lexer": "ipython3",
   "version": "3.10.4"
  }
 },
 "nbformat": 4,
 "nbformat_minor": 4
}
