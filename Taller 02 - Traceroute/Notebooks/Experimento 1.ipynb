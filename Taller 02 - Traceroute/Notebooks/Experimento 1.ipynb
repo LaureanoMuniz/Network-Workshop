{
 "cells": [
  {
   "cell_type": "code",
   "execution_count": 1,
   "metadata": {},
   "outputs": [],
   "source": [
    "#!/usr/bin/env python3\n",
    "\n",
    "import sys\n",
    "from scapy.all import *\n",
    "from time import *\n",
    "\n",
    "import statistics\n",
    "from statistics import mode, mean\n",
    "import pandas as pd"
   ]
  },
  {
   "cell_type": "markdown",
   "metadata": {},
   "source": [
    "## Definiciones"
   ]
  },
  {
   "cell_type": "code",
   "execution_count": 2,
   "metadata": {},
   "outputs": [],
   "source": [
    "\n",
    "def isTimeExceeded(pkt):\n",
    "    return pkt[ICMP].type == 11\n",
    "\n",
    "def rttsXX(url, repCount, ttlRange):\n",
    "    responses = {}\n",
    "    for i in range(repCount):\n",
    "        for ttl in ttlRange:\n",
    "            probe = IP(dst=url, ttl=ttl) / ICMP()\n",
    "            t_i = time()\n",
    "            ans = sr1(probe, verbose=False, timeout=0.8)\n",
    "            t_f = time()\n",
    "            rtt = (t_f - t_i)*1000\n",
    "            if (ans is not None) and isTimeExceeded(ans):\n",
    "\n",
    "                if ttl not in responses: \n",
    "                    responses[ttl] = []\n",
    "                responses[ttl].append((ans.src, rtt))\n",
    "        #print(responses)\n",
    "        #print()    \n",
    "    return responses\n",
    "\n",
    "def mostFrequentIPSAndTheirMeanRTTs(rtts):\n",
    "    mostFrequentIPs = { key : mode([ p[0] for p in value ]) for key, value in rtts.items() }\n",
    "    \n",
    "    filteredResponsesByMostFrequent = { key : [x for x in value if x[0]==mostFrequentIPs[key]] for key, value in rtts.items() }\n",
    "    \n",
    "    meanRTTs = { key : mean([ p[1] for p in value ]) for key, value in filteredResponsesByMostFrequent.items() }\n",
    "    \n",
    "    return mostFrequentIPs, meanRTTs\n",
    "\n",
    "def getStepsXX(RTTsByTTL, mostFrequentIPs):\n",
    "    totalRTTs = RTTsByTTL.copy()\n",
    "    RTTsOfSteps = {}\n",
    "    IPsOfSteps = mostFrequentIPs.copy()\n",
    "    sortedKeys = sorted(RTTsByTTL.keys())\n",
    "    for idx, TTL in enumerate(sortedKeys):\n",
    "        if idx == 0:\n",
    "            RTTsOfSteps[TTL] = RTTsByTTL[TTL]\n",
    "        else:\n",
    "            for backwardsSkip in range(1,idx+1):\n",
    "                if (idx - backwardsSkip == 0):\n",
    "                    diff = RTTsByTTL[TTL] \n",
    "                else:\n",
    "                    previousTTL = sortedKeys[idx-backwardsSkip]\n",
    "                    if previousTTL not in RTTsOfSteps:\n",
    "                        continue\n",
    "                    diff = RTTsByTTL[TTL] - RTTsByTTL[previousTTL]\n",
    "                if diff > 0:\n",
    "                    break\n",
    "                RTTsOfSteps.pop(previousTTL)\n",
    "                IPsOfSteps.pop(previousTTL)\n",
    "                totalRTTs.pop(previousTTL)\n",
    "            RTTsOfSteps[TTL] = diff\n",
    "    return RTTsOfSteps, IPsOfSteps, totalRTTs\n",
    "\n",
    "def traceroute(url):\n",
    "    responses = rttsXX(url, 30, range(1,30))\n",
    "    \n",
    "    mostFrequentIPs, meanRTTs = mostFrequentIPSAndTheirMeanRTTs(responses)\n",
    "    \n",
    "    steps, IPsOfSteps, totalRTTsOfIPs= getStepsXX(meanRTTs, mostFrequentIPs)\n",
    "    \n",
    "    return IPsOfSteps, steps, totalRTTsOfIPs"
   ]
  },
  {
   "cell_type": "markdown",
   "metadata": {},
   "source": [
    "- Universidades:\n",
    "    - Heidelberg Universität\n",
    "        www.uni-heidelberg.de\n",
    "    - 北京大学\n",
    "        www.pku.edu.cn\n",
    "    - University of Cape Town\n",
    "        www.uct.ac.za"
   ]
  },
  {
   "cell_type": "code",
   "execution_count": 3,
   "metadata": {},
   "outputs": [],
   "source": [
    "universityUrls = { \n",
    "    \"Heidelberg\": \"www.uni-heidelberg.de\", \n",
    "    \"Peking\": \"www.pku.edu.cn\", \n",
    "    \"Cape Town\": \"www.uct.ac.za\" \n",
    "}"
   ]
  },
  {
   "cell_type": "code",
   "execution_count": 4,
   "metadata": {},
   "outputs": [],
   "source": [
    "def runExperiment1(universityUrls):\n",
    "    \n",
    "    results = {} \n",
    "\n",
    "    for university, url in universityUrls.items():\n",
    "        \n",
    "        print(university)\n",
    "        print(url)\n",
    "        print()\n",
    "\n",
    "        ips, stepRTTs, totalRTTs = traceroute(url)\n",
    "\n",
    "        results[university] = pd.DataFrame([{\"TTL\": ttl, \"IP\": ips[ttl], \"Step RTT\": stepRTTs[ttl], \"Total RTT\": totalRTTs[ttl]} for ttl in ips.keys()])\n",
    "    \n",
    "    return results"
   ]
  },
  {
   "cell_type": "code",
   "execution_count": 5,
   "metadata": {
    "tags": []
   },
   "outputs": [],
   "source": [
    "def saveExperiment1Results(results, outputFolder, outputFileNameRoot):\n",
    "    \n",
    "    for university, trace in results.items():\n",
    "\n",
    "            outputPath = outputFolder + outputFileNameRoot + \"-\" + university\n",
    "\n",
    "            trace.to_csv(outputPath, index=False)"
   ]
  },
  {
   "cell_type": "markdown",
   "metadata": {},
   "source": [
    "## Experimento y resultados"
   ]
  },
  {
   "cell_type": "code",
   "execution_count": 9,
   "metadata": {},
   "outputs": [
    {
     "name": "stdout",
     "output_type": "stream",
     "text": [
      "Heidelberg\n",
      "www.uni-heidelberg.de\n",
      "\n",
      "Peking\n",
      "www.pku.edu.cn\n",
      "\n",
      "Cape Town\n",
      "www.uct.ac.za\n",
      "\n",
      "Heidelberg\n",
      "   TTL               IP    Step RTT   Total RTT\n",
      "0    1      192.168.0.1   15.622616   15.622616\n",
      "1    7    195.22.220.56   31.266689   31.266689\n",
      "2    9    89.221.41.199  109.699488  140.966177\n",
      "3   10   62.115.120.176   46.537399  187.503576\n",
      "4   18  129.206.216.241   64.589739  252.093315\n",
      "\n",
      "Peking\n",
      "    TTL               IP    Step RTT   Total RTT\n",
      "0     1      192.168.0.1    0.000000    0.000000\n",
      "1     7    195.22.220.56   31.210184   31.210184\n",
      "2     8    195.22.219.67    5.946636   37.156820\n",
      "3    10    129.250.4.202    9.754658   46.911478\n",
      "4    12    129.250.6.177  171.837568  218.749046\n",
      "5    13    129.250.4.143   76.897860  295.646906\n",
      "6    15    129.250.6.123   32.694101  328.341007\n",
      "7    16  203.131.254.214   14.285326  342.626333\n",
      "8    18    101.4.118.121   13.758183  356.384516\n",
      "9    19    101.4.115.113    8.349895  364.734411\n",
      "10   23   202.112.41.182    6.590128  371.324539\n",
      "11   24     202.112.41.2   18.897772  390.222311\n",
      "\n",
      "Cape Town\n",
      "   TTL              IP    Step RTT   Total RTT\n",
      "0    1     192.168.0.1   15.652418   15.652418\n",
      "1    7   195.22.220.56   23.978710   23.978710\n",
      "2    9    149.3.181.65   22.935867   46.914577\n",
      "3   13  190.103.184.13  119.862795  166.777372\n",
      "4   15   155.232.64.70  164.942026  331.719398\n",
      "5   16   154.114.124.1    7.714748  339.434147\n",
      "\n"
     ]
    }
   ],
   "source": [
    "results = runExperiment1(universityUrls)\n",
    "\n",
    "for university, trace in results.items():\n",
    "    \n",
    "    print(university)\n",
    "    print(trace)\n",
    "    print()"
   ]
  },
  {
   "cell_type": "code",
   "execution_count": 10,
   "metadata": {},
   "outputs": [],
   "source": [
    "outputFolder = \"./Resultados/\"\n",
    "outputFileNameRoot = \"Experimento1-Fermin\"\n",
    "saveExperiment1Results(results, outputFolder, outputFileNameRoot)"
   ]
  }
 ],
 "metadata": {
  "kernelspec": {
   "display_name": "Python 3 (ipykernel)",
   "language": "python",
   "name": "python3"
  },
  "language_info": {
   "codemirror_mode": {
    "name": "ipython",
    "version": 3
   },
   "file_extension": ".py",
   "mimetype": "text/x-python",
   "name": "python",
   "nbconvert_exporter": "python",
   "pygments_lexer": "ipython3",
   "version": "3.10.4"
  }
 },
 "nbformat": 4,
 "nbformat_minor": 4
}
