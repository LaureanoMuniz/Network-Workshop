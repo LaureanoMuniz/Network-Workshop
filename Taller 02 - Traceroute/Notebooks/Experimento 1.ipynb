{
 "cells": [
  {
   "cell_type": "code",
   "execution_count": 1,
   "metadata": {},
   "outputs": [],
   "source": [
    "#!/usr/bin/env python3\n",
    "\n",
    "import sys\n",
    "from scapy.all import *\n",
    "from time import *\n",
    "\n",
    "import statistics\n",
    "from statistics import mode, mean\n"
   ]
  },
  {
   "cell_type": "code",
   "execution_count": 48,
   "metadata": {},
   "outputs": [],
   "source": [
    "\n",
    "def isTimeExceeded(pkt):\n",
    "    return pkt[ICMP].type == 11\n",
    "\n",
    "def rttsXX(url, repCount, ttlRange):\n",
    "    responses = {}\n",
    "    for i in range(repCount):\n",
    "        for ttl in ttlRange:\n",
    "            probe = IP(dst=url, ttl=ttl) / ICMP()\n",
    "            t_i = time()\n",
    "            ans = sr1(probe, verbose=False, timeout=0.8)\n",
    "            t_f = time()\n",
    "            rtt = (t_f - t_i)*1000\n",
    "            if (ans is not None) and isTimeExceeded(ans):\n",
    "\n",
    "                if ttl not in responses: \n",
    "                    responses[ttl] = []\n",
    "                responses[ttl].append((ans.src, rtt))\n",
    "        #print(responses)\n",
    "        #print()    \n",
    "    return responses\n",
    "\n",
    "def mostFrequentIPSAndTheirMeanRTTs(rtts):\n",
    "    mostFrequentIPs = { key : mode([ p[0] for p in value ]) for key, value in rtts.items() }\n",
    "    \n",
    "    filteredResponsesByMostFrequent = { key : [x for x in value if x[0]==mostFrequentIPs[key]] for key, value in rtts.items() }\n",
    "    \n",
    "    meanRTTs = { key : mean([ p[1] for p in value ]) for key, value in filteredResponsesByMostFrequent.items() }\n",
    "    \n",
    "    return mostFrequentIPs, meanRTTs\n",
    "\n",
    "def getStepsXX(RTTsByTTL, mostFrequentIPs):\n",
    "    totalRTTs = RTTsByTTL.copy()\n",
    "    RTTsOfSteps = {}\n",
    "    IPsOfSteps = mostFrequentIPs.copy()\n",
    "    sortedKeys = sorted(RTTsByTTL.keys())\n",
    "    for idx, TTL in enumerate(sortedKeys):\n",
    "        if idx == 0:\n",
    "            RTTsOfSteps[TTL] = RTTsByTTL[TTL]\n",
    "        else:\n",
    "            for backwardsSkip in range(1,idx+1):\n",
    "                if (idx - backwardsSkip == 0):\n",
    "                    diff = RTTsByTTL[TTL] \n",
    "                else:\n",
    "                    previousTTL = sortedKeys[idx-backwardsSkip]\n",
    "                    if previousTTL not in RTTsOfSteps:\n",
    "                        continue\n",
    "                    diff = RTTsByTTL[TTL] - RTTsByTTL[previousTTL]\n",
    "                if diff > 0:\n",
    "                    break\n",
    "                RTTsOfSteps.pop(previousTTL)\n",
    "                IPsOfSteps.pop(previousTTL)\n",
    "                totalRTTs.pop(previousTTL)\n",
    "            RTTsOfSteps[TTL] = diff\n",
    "    return RTTsOfSteps, IPsOfSteps, totalRTTs\n",
    "\n",
    "def traceroute(url):\n",
    "    responses = rttsXX(url, 3, range(1,30))\n",
    "    \n",
    "    mostFrequentIPs , meanRTTs = mostFrequentIPSAndTheirMeanRTTs(responses)\n",
    "    \n",
    "    steps , IPsOfSteps , totalRTTsOfIPs= getStepsXX(meanRTTs, mostFrequentIPs)\n",
    "    \n",
    "    return steps, IPsOfSteps , totalRTTsOfIPs"
   ]
  },
  {
   "cell_type": "markdown",
   "metadata": {},
   "source": [
    "- Universidades:\n",
    "    - Heidelberg Universität\n",
    "        www.uni-heidelberg.de\n",
    "    - 北京大学\n",
    "        www.pku.edu.cn\n",
    "    - University of Cape Town\n",
    "        www.uct.ac.za"
   ]
  },
  {
   "cell_type": "code",
   "execution_count": 49,
   "metadata": {},
   "outputs": [
    {
     "name": "stdout",
     "output_type": "stream",
     "text": [
      "\n",
      "{1: 56.33624394734701, 7: 70.01018524169922, 9: 88.50932121276855, 10: 22.495587666829437, 11: 122.50951925913492, 12: 115.60320854187012, 24: 232.22243785858154}\n",
      "{1: '192.168.0.1', 7: '195.22.220.56', 9: '149.3.181.65', 10: '129.250.4.202', 24: '202.112.41.2', 11: '129.250.2.12', 12: '129.250.6.177'}\n"
     ]
    }
   ],
   "source": [
    "steps, IPsOfSteps, totalRTTsOfIPs = traceroute(\"www.pku.edu.cn\")\n",
    "print()\n",
    "print(steps)\n",
    "print(IPsOfSteps)"
   ]
  }
 ],
 "metadata": {
  "kernelspec": {
   "display_name": "Python 3",
   "language": "python",
   "name": "python3"
  },
  "language_info": {
   "codemirror_mode": {
    "name": "ipython",
    "version": 3
   },
   "file_extension": ".py",
   "mimetype": "text/x-python",
   "name": "python",
   "nbconvert_exporter": "python",
   "pygments_lexer": "ipython3",
   "version": "3.8.5"
  }
 },
 "nbformat": 4,
 "nbformat_minor": 4
}
