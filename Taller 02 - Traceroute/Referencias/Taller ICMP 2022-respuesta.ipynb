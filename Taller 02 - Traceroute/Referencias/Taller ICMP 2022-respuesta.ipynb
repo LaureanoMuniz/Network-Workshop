{
 "cells": [
  {
   "cell_type": "markdown",
   "id": "166eca54-31f9-40ad-a056-767173079dcd",
   "metadata": {},
   "source": [
    "# Taller ICMP 2022"
   ]
  },
  {
   "cell_type": "markdown",
   "id": "9d157a4b-ba8d-43dd-9f46-6d13dc5768bb",
   "metadata": {},
   "source": [
    "Para el siguiente taller utilizaremos `Scapy` para construir, enviar y recibir paquetes. Luego, a partir de los mensajes del protocolo ICMP, implementaremos una herramienta que nos permita seguir por cuales nodos IP pasa un paquete hasta llegar (si llega) a destino.\n",
    "\n",
    "Los ejercicios los guiarán por diferentes consignas para que luego puedan entender el código necesario del TP. Debajo de cada ejercicio está la respuesta, **recomendamos fuertemente intentar hacer el ejercicio antes de ver la respuesta**."
   ]
  },
  {
   "cell_type": "code",
   "execution_count": 61,
   "id": "421cb924-2707-45a6-8713-8682e705543e",
   "metadata": {
    "tags": []
   },
   "outputs": [],
   "source": [
    "import sys\n",
    "from scapy.all import *\n",
    "from time import *"
   ]
  },
  {
   "cell_type": "markdown",
   "id": "5f61f01e-2636-40f3-a262-58c07b16b918",
   "metadata": {},
   "source": [
    "## Ejercicio 1: Entrada en calor\n",
    "\n",
    "Vamos a recordar algunas cosas que vimos en el taller 1. \n",
    "\n",
    "`Scapy` es una herramienta útil para el análisis de redes, capturar, enviar y recibir paquetes. Existen distintas funciones que nos pueden ser útiles a la hora de programar un script con Scapy, algunas de estas son:\n",
    "\n",
    " * `ls(PROTOCOLO)`: Si hacemos ls(Ether) nos mostrará los distintos campos de los frames Ethers.\n",
    " * `lsc()`: Nos devuelve las distintas funciones de Scapy\n",
    " * Documentación: https://scapy.readthedocs.io/en/latest/usage.html\n",
    " \n",
    "\n",
    "1. Crear un paquete Ether broadcast.\n",
    "2. Encapsular un paquete IP dentro de un paquete Ether. La dirección destino del paquete IP tiene que ser la IP de una página web. (Hint: Qué pasa si pongo al dirección web o URL?)"
   ]
  },
  {
   "cell_type": "code",
   "execution_count": null,
   "id": "cac8e8c4-4436-4fc3-8588-387abb181d09",
   "metadata": {
    "tags": []
   },
   "outputs": [],
   "source": [
    "Ether().show()\n",
    "Ether()/IP(dst='www.google.com')"
   ]
  },
  {
   "cell_type": "markdown",
   "id": "b263101e-d78c-4b75-8e35-a958d5bd10f8",
   "metadata": {},
   "source": [
    "## Ejercicio 2: Enviar paquetes\n",
    "\n",
    "Scapy no sólo permite hacer sniffing, si no que permite enviar paquetes a la red.\n",
    "Para esto nos provee dos funciones `send()` y `sendp()`. Ambas se utilizan para enviar mensajes, la diferencia es que el primero va por capa 3 (Red) mientras que el segundo por Capa 2 (Medios compartidos).\n",
    "\n",
    "*Si no hay respuesta el valor será None*\n",
    "\n",
    "\n",
    "1. Crear un paquete IP con destino a alguna universidad del mundo. \n",
    "2. Enviar el paquete de 2."
   ]
  },
  {
   "cell_type": "code",
   "execution_count": null,
   "id": "7147e5fa-8746-43cc-a252-7588d2e3237c",
   "metadata": {
    "tags": []
   },
   "outputs": [],
   "source": [
    "p = IP(src=\"ox.ac.uk\")\n",
    "send(p)"
   ]
  },
  {
   "cell_type": "markdown",
   "id": "53a46ea9-e11b-4cf3-9ab1-631e35fe7543",
   "metadata": {
    "tags": []
   },
   "source": [
    "## Ejercicio 3: Enviar y recibir paquetes\n",
    "\n",
    "Scapy permite enviar paquetes a la red y obtener la respuesta. Para esto nos provee dos funciones `sr()` y `sr1()`. Ambas se utilizan para enviar mensajes y recibir respuestas. La diferencia de `sr1` es que retorna *un* solo paquete. \n",
    "\n",
    "Para poder enviar y recibir paquetes `sr()` requiere que los paquetes sean de Capa 3 (e.g. IP) mientras que si necesitamos enviar y recibir por Capa 2 podemos usar `srp()`\n",
    "\n",
    "*Si no hay respuesta el valor será None*\n",
    "\n",
    "1. Crear un paquete ICMP con destino a alguna universidad del mundo (hint: ICMP se encapsula con IP).\n",
    "2. Enviar el paquete de 2. e imprimir la respuesta."
   ]
  },
  {
   "cell_type": "code",
   "execution_count": null,
   "id": "76e85343-2dd7-45eb-9cfb-6b493f384662",
   "metadata": {
    "tags": []
   },
   "outputs": [],
   "source": [
    "p=IP(dst='ox.ac.uk')\n",
    "p2=sr1(IP(dst=\"ox.ac.uk\")/ICMP())\n",
    "p2.show()"
   ]
  },
  {
   "cell_type": "markdown",
   "id": "5fc95c9f-68be-49a9-b761-030b17444031",
   "metadata": {},
   "source": [
    "## ICMP: Echo Request (type 8) y Echo Reply (type 0)\n",
    "\n",
    "Estos mensajes son utilizados para el test de diagnóstico más básico de ICMP, el **ping**. Este test se utiliza conocer si un host es alcanzable. Sin embargo, esta herramienta no devuelve suficiente información. No todos los dominios devuelven una respuesta, por distintos motivos que veremos más adelante.\n",
    "\n",
    "## Ejercicio 4: Implementar la herramienta PING\n",
    "\n",
    "1. Crear un paquete ICMP con type=8.\n",
    "2. Enviar (sr()) a alguna universidad. Además agregar como parámetro timeout=1 en caso de que la universidad no responda.\n",
    "3. Completar la función para que dado una URL escrita como string, mande un mensaje al dominio y devuelva la respuesta."
   ]
  },
  {
   "cell_type": "code",
   "execution_count": null,
   "id": "c865c224-53e8-40e5-92fc-57582c6525be",
   "metadata": {
    "tags": []
   },
   "outputs": [],
   "source": [
    "def ping(url):\n",
    "    p = IP(dst=url)/ICMP(type=8)\n",
    "    r = sr(p, timeout=1)\n",
    "    print(r)\n",
    "ping('www.google.com')"
   ]
  },
  {
   "cell_type": "markdown",
   "id": "1d403bbb-d0c0-4255-a8b1-2ffa9c4888d3",
   "metadata": {},
   "source": [
    "## Destination Unreachable (type 3)\n",
    "\n",
    "En el caso donde hayan 3 routers A--B--C, el router A manda un mensaje a C, pero al llegar al router B, este no encuentra la ruta correcta al router C. Cómo se enterará A de que esto sucedió? Es eficiente que A siga mandando a ciegas todo el tiempo?\n",
    "\n",
    "Para esto, se implementa el mensaje ICMP de Destination Unreachable. Este encapsula una parte del datagrama IP que no se entregó. \n",
    "\n",
    "**No hay garantías que este mensaje se responda siempre**\n",
    "\n",
    "Tiene varios subtipos:\n",
    "* Destination network unreachable (code=0): Si el router no sabe cómo rutear el paquete (e.g. router B no tiene una ruta programada para la red destino)\n",
    "* Destination host unreachable (code=1): El host destino está en la red del router pero este determinó que no puede llegar al host.\n",
    "* Destination port unreachable (code=3): El mensaje llegó a destino pero el puerto no tiene un proceso asociado, en este caso es el host destino quien responde.\n",
    "\n",
    "## Ejercicio 5: Conseguir un destination unreachable.\n",
    "\n",
    "\n",
    "1. Crear un paquete ICMP cuya respuesta sea Destination Unreachable con subtipo Destination Network Unreachable.\n",
    "2. Intentar con diferentes IPs conseguir un Destination Unreachable, esto puede ser difícil, si después de varios intentos no sale pasar al siguiente ejercicio."
   ]
  },
  {
   "cell_type": "code",
   "execution_count": 33,
   "id": "c7c43184-3a08-4702-aeed-0259b3f17f15",
   "metadata": {
    "tags": []
   },
   "outputs": [
    {
     "name": "stdout",
     "output_type": "stream",
     "text": [
      "###[ ICMP ]### \n",
      "  type      = dest-unreach\n",
      "  code      = network-unreachable\n",
      "  chksum    = None\n",
      "  reserved  = 0\n",
      "  length    = 0\n",
      "  nexthopmtu= 0\n",
      "  unused    = ''\n",
      "\n",
      "Begin emission:\n",
      "Finished sending 1 packets.\n",
      "\n",
      "Received 376 packets, got 0 answers, remaining 1 packets\n"
     ]
    },
    {
     "ename": "AttributeError",
     "evalue": "'NoneType' object has no attribute 'show'",
     "output_type": "error",
     "traceback": [
      "\u001b[1;31m---------------------------------------------------------------------------\u001b[0m",
      "\u001b[1;31mAttributeError\u001b[0m                            Traceback (most recent call last)",
      "Input \u001b[1;32mIn [35]\u001b[0m, in \u001b[0;36m<cell line: 4>\u001b[1;34m()\u001b[0m\n\u001b[0;32m      2\u001b[0m p\u001b[38;5;241m.\u001b[39mshow()\n\u001b[0;32m      3\u001b[0m a \u001b[38;5;241m=\u001b[39m sr1(IP(dst\u001b[38;5;241m=\u001b[39m\u001b[38;5;124m\"\u001b[39m\u001b[38;5;124m200.1.0.8/32\u001b[39m\u001b[38;5;124m\"\u001b[39m)\u001b[38;5;241m/\u001b[39mICMP(\u001b[38;5;28mtype\u001b[39m\u001b[38;5;241m=\u001b[39m\u001b[38;5;241m8\u001b[39m), timeout\u001b[38;5;241m=\u001b[39m\u001b[38;5;241m1\u001b[39m)\n\u001b[1;32m----> 4\u001b[0m \u001b[43ma\u001b[49m\u001b[38;5;241;43m.\u001b[39;49m\u001b[43mshow\u001b[49m()\n",
      "\u001b[1;31mAttributeError\u001b[0m: 'NoneType' object has no attribute 'show'"
     ]
    }
   ],
   "source": [
    "p = ICMP(type=3, code=0)\n",
    "p.show()\n",
    "a = sr1(IP(dst=\"200.1.0.7/32\")/ICMP(type=8), timeout=1)\n",
    "a.show()"
   ]
  },
  {
   "cell_type": "markdown",
   "id": "f292f0ac-3d7b-4ba1-9e7c-0c1908ec1b50",
   "metadata": {},
   "source": [
    "## Time exceeded (type=11)\n",
    "\n",
    "* Si se genera un loop, un datagrama IP podría ciclar infinitamente por la red y generar tráfico. \n",
    "* Una posible solución es agregar un campo al datagrama denominado **T**ime-**t**o-**l**ive o TTL.\n",
    "* Cada host que recibe un datagrama IP, si este no es para él, decrementará un valor al TTL y lo enviará al próximo salto, si llega a 0, lo descarta.\n",
    "\n",
    "Por lo tanto, otros de los tipos de paquetes del protocolo ICMP es el \"Time exceeded\" e informa cuándo el TTL del datagrama IP llega a 0.\n",
    "\n",
    "## Ejercicio 6: Generar un time exceeded.\n",
    "\n",
    "1. Crear el paquete ICMP cuyo tipo sea el de time exceeded.\n",
    "2. Crear un paquete IP con destino a una universidad agregándole el parámetro ttl que recibe un valor numérico.\n",
    "3. Enviar el paquete del ejercicio 2 con distintos TTLs para conseguir un time exceeded.\n",
    "4. Correr el comando `traceroute()` con parámetro una URL."
   ]
  },
  {
   "cell_type": "code",
   "execution_count": 63,
   "id": "827da78c-4bfa-4039-a93d-182fe85f4736",
   "metadata": {
    "tags": []
   },
   "outputs": [
    {
     "name": "stdout",
     "output_type": "stream",
     "text": [
      "Begin emission:\n",
      "Finished sending 1 packets.\n",
      "\n",
      "Received 12 packets, got 1 answers, remaining 0 packets\n",
      "Begin emission:\n",
      "Finished sending 1 packets.\n",
      "\n",
      "Received 2 packets, got 1 answers, remaining 0 packets\n",
      "11\n",
      "Begin emission:\n",
      "Finished sending 1 packets.\n",
      "\n",
      "Received 2 packets, got 1 answers, remaining 0 packets\n",
      "11\n",
      "Begin emission:\n",
      "Finished sending 1 packets.\n",
      "\n",
      "Received 344 packets, got 0 answers, remaining 1 packets\n",
      "Begin emission:\n",
      "Finished sending 1 packets.\n",
      "\n",
      "Received 350 packets, got 0 answers, remaining 1 packets\n",
      "Begin emission:\n",
      "Finished sending 1 packets.\n",
      "\n",
      "Received 366 packets, got 0 answers, remaining 1 packets\n",
      "Begin emission:\n",
      "Finished sending 1 packets.\n",
      "\n",
      "Received 330 packets, got 0 answers, remaining 1 packets\n",
      "Begin emission:\n",
      "Finished sending 1 packets.\n",
      "\n",
      "Received 336 packets, got 0 answers, remaining 1 packets\n",
      "Begin emission:\n",
      "Finished sending 1 packets.\n",
      "\n",
      "Received 25 packets, got 1 answers, remaining 0 packets\n",
      "11\n",
      "Begin emission:\n",
      "Finished sending 1 packets.\n",
      "\n",
      "Received 2 packets, got 1 answers, remaining 0 packets\n",
      "11\n",
      "Begin emission:\n",
      "Finished sending 1 packets.\n",
      "\n",
      "Received 17 packets, got 1 answers, remaining 0 packets\n",
      "11\n",
      "Begin emission:\n",
      "Finished sending 1 packets.\n",
      "\n",
      "Received 21 packets, got 1 answers, remaining 0 packets\n",
      "0\n",
      "Begin emission:\n",
      "Finished sending 1 packets.\n",
      "\n",
      "Received 8 packets, got 1 answers, remaining 0 packets\n",
      "0\n",
      "Begin emission:\n",
      "Finished sending 1 packets.\n",
      "\n",
      "Received 4 packets, got 1 answers, remaining 0 packets\n",
      "0\n",
      "Begin emission:\n",
      "Finished sending 1 packets.\n",
      "\n",
      "Received 11 packets, got 1 answers, remaining 0 packets\n",
      "0\n",
      "Begin emission:\n",
      "Finished sending 1 packets.\n",
      "\n",
      "Received 20 packets, got 1 answers, remaining 0 packets\n",
      "0\n"
     ]
    }
   ],
   "source": [
    "p1 = ICMP(type=11)\n",
    "p2 = IP(dst='ox.ac.uk', ttl=1)/ICMP()\n",
    "sr1(p2, timeout=1)\n",
    "\n",
    "def try_ttl():\n",
    "    for i in range(0,15):\n",
    "        p2 = IP(dst='www.google.com', ttl=i)/ICMP(type = 8)\n",
    "        a = sr1(p2, timeout = 1)\n",
    "        try: \n",
    "            print(a[ICMP].type)\n",
    "        except:\n",
    "            pass\n",
    "        \n",
    "try_ttl()"
   ]
  },
  {
   "cell_type": "markdown",
   "id": "a19fa1cc-14bd-4048-b220-3f9e7456d674",
   "metadata": {},
   "source": [
    "## Ejercicio 7: Implementar traceroute\n",
    "\n",
    "En el siguiente ejercicio construiremos una herramienta utilizada para el diagnóstico de red denominada **traceroute**. Esta herramienta permite conocer la ruta o dispositivos por los que \"salta\" (hop) un datagrama IP antes de llegar a destino (si es que llega). Existen distintas implementaciones, incluso, cada SO cuenta con la suya. Scapy por supuesto, también. \n",
    "\n",
    "Aprovechando lo que hicieron en los ejercicios anteriores, completar el código de abajo para que haga lo siguiente:\n",
    "\n",
    "1. Dado una URL destino (e.g. dc.uba.ar):\n",
    "\n",
    "    a) Calcular los RTTs entre cada salto que responda **Time Exceeded**.\n",
    "    \n",
    "    b) Mandar al menos 30 paquetes por cada TTL y por cada respuesta promediar el RTT de la IP que más responde.\n",
    "    \n",
    "    c) Calcular el RTT entre saltos restando los valores de RTT de saltos sucesivos.\n",
    "            i. Si la diferencia da negativa se puede obviar este calculo y calcularlo con el próximo salto que de positivo."
   ]
  },
  {
   "cell_type": "code",
   "execution_count": 161,
   "id": "0088ed7d-3320-487c-9cd6-321238116b0e",
   "metadata": {
    "tags": []
   },
   "outputs": [],
   "source": [
    "#!/usr/bin/env python3\n",
    "\n",
    "import sys\n",
    "from scapy.all import *\n",
    "from time import *\n",
    "\n",
    "import statistics\n",
    "from statistics import mode, mean\n",
    "\n",
    "def isTimeExceeded(pkt):\n",
    "    return pkt[ICMP].type == 11\n",
    "\n",
    "def rttsXX(url, repCount, ttlRange):\n",
    "    responses = {}\n",
    "    for i in range(repCount):\n",
    "        print()\n",
    "        for ttl in ttlRange:\n",
    "            probe = IP(dst=url, ttl=ttl) / ICMP()\n",
    "            t_i = time()\n",
    "            ans = sr1(probe, verbose=False, timeout=0.8)\n",
    "            t_f = time()\n",
    "            rtt = (t_f - t_i)*1000\n",
    "            if (ans is not None) and isTimeExceeded(ans):\n",
    "\n",
    "                if ttl not in responses: \n",
    "                    responses[ttl] = []\n",
    "                responses[ttl].append((ans.src, rtt))\n",
    "\n",
    "                if ttl in responses: \n",
    "                    print(ttl, responses[ttl])\n",
    "    return responses\n",
    "\n",
    "def meanRTTsXX(rtts):\n",
    "    mostFrequentIPs = { key : mode([ p[0] for p in value ]) for key, value in rtts.items() }\n",
    "    \n",
    "    filteredResponsesByMostFrequent = { key : [x for x in value if x[0]==mostFrequentIPs[key]] for key, value in rtts.items() }\n",
    "    \n",
    "    meanRTTs = { key : mean([ p[1] for p in value ]) for key, value in filteredResponsesByMostFrequent.items() }\n",
    "    \n",
    "    return meanRTTs\n",
    "\n",
    "def getStepsXX(meanRTTs):\n",
    "    steps = {}\n",
    "    sortedKeys = sorted(meanRTTs.keys())\n",
    "    for idx, key in enumerate(sortedKeys):\n",
    "        if idx == 0:\n",
    "            steps[1] = meanRTTs[key]\n",
    "        \n",
    "        else:\n",
    "            diff = meanRTTs[key] - meanRTTs[sortedKeys[idx-1]]\n",
    "            if diff < 0:\n",
    "                skip = 1\n",
    "                while (idx+skip < len(sortedKeys)) and (diff < 0):\n",
    "                    diff = meanRTTs[sortedKeys[idx+skip]] - meanRTTs[sortedKeys[idx-1]]\n",
    "                    skip += 1\n",
    "                    \n",
    "            steps[idx+1] = diff\n",
    "    return steps\n",
    "\n",
    "def traceroute(url):\n",
    "    responses = rttsXX(url, 3, range(1,25))\n",
    "    \n",
    "    meanRTTs = meanRTTsXX(responses)\n",
    "    \n",
    "    steps = getStepsXX(meanRTTs)\n",
    "    \n",
    "    return steps"
   ]
  },
  {
   "cell_type": "code",
   "execution_count": 163,
   "id": "9fdb9362-2da3-48d8-8ed9-ac95b4a6ee94",
   "metadata": {},
   "outputs": [
    {
     "name": "stdout",
     "output_type": "stream",
     "text": [
      "\n",
      "1 [('192.168.0.1', 15.803337097167969)]\n",
      "6 [('181.96.103.168', 193.55034828186035)]\n",
      "7 [('72.14.194.198', 28.1984806060791)]\n",
      "8 [('142.250.57.181', 31.133651733398438)]\n",
      "9 [('142.251.79.115', 32.05585479736328)]\n",
      "\n",
      "1 [('192.168.0.1', 15.803337097167969), ('192.168.0.1', 12.737751007080078)]\n",
      "6 [('181.96.103.168', 193.55034828186035), ('181.96.103.168', 303.3185005187988)]\n",
      "7 [('72.14.194.198', 28.1984806060791), ('72.14.194.198', 28.107881546020508)]\n",
      "8 [('142.250.57.181', 31.133651733398438), ('142.250.57.181', 26.660680770874023)]\n",
      "9 [('142.251.79.115', 32.05585479736328), ('142.251.79.115', 34.252166748046875)]\n",
      "\n",
      "1 [('192.168.0.1', 15.803337097167969), ('192.168.0.1', 12.737751007080078), ('192.168.0.1', 15.308856964111328)]\n",
      "7 [('72.14.194.198', 28.1984806060791), ('72.14.194.198', 28.107881546020508), ('72.14.194.198', 21.99578285217285)]\n",
      "8 [('142.250.57.181', 31.133651733398438), ('142.250.57.181', 26.660680770874023), ('142.250.57.181', 35.02845764160156)]\n",
      "9 [('142.251.79.115', 32.05585479736328), ('142.251.79.115', 34.252166748046875), ('142.251.79.115', 45.25256156921387)]\n",
      "\n",
      "{1: 14.616648356119791, 2: 233.8177760442098, 3: -211.24756336212158, 4: 4.840215047200523, 5: 6.245930989583332}\n"
     ]
    }
   ],
   "source": [
    "steps = traceroute(\"www.google.com\")\n",
    "print()\n",
    "print(steps)"
   ]
  }
 ],
 "metadata": {
  "kernelspec": {
   "display_name": "Python 3 (ipykernel)",
   "language": "python",
   "name": "python3"
  },
  "language_info": {
   "codemirror_mode": {
    "name": "ipython",
    "version": 3
   },
   "file_extension": ".py",
   "mimetype": "text/x-python",
   "name": "python",
   "nbconvert_exporter": "python",
   "pygments_lexer": "ipython3",
   "version": "3.10.4"
  }
 },
 "nbformat": 4,
 "nbformat_minor": 5
}
