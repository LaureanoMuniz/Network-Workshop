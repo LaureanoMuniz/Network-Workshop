{
 "cells": [
  {
   "cell_type": "code",
   "execution_count": 1,
   "metadata": {},
   "outputs": [],
   "source": [
    "from scapy.all import *"
   ]
  },
  {
   "cell_type": "markdown",
   "metadata": {},
   "source": [
    "## Bienvenidxs al taller de DNS."
   ]
  },
  {
   "cell_type": "markdown",
   "metadata": {},
   "source": [
    "A lo largo del taller van a poder probar los diferentes comandos que nos provee la librería Scapy para realizar consultas DNS. El objetivo es que al finalizar el taller tengan el código necesario para poder hacer los experimentos y el informe.\n",
    "\n",
    "El proceso de resolución de nombres consiste en sucesivas consultas y respuestas por parte de todos los servidores DNS involucrados. Las consultas suelen ser recursivas cuando las PC quieren resolver un nombre y le preguntan al Resolver local y suelen ser iterativas cuando los Resolvers le pasan las consultas a los servidores Autoritativos responsables de cada zona. Por esa razón, en una consulta determinada, puede haber subconsultas recursivas e iterativas. Además de los servidores autoritativos de cada zona, el sistema DNS no podría funcionar si no existieran\n",
    "servidores por encima de toda la jerarquía de zonas que funcionen como punto de partida para comenzar las\n",
    "consultas iterativas. Estos servidores se llaman Root Name Servers y tienen direcciones IP asignadas fijas,\n",
    "que nunca cambian de manera que no haga falta hacer una consulta DNS para resolverlos porque sino no se\n",
    "podría empezar. Estos servidores y sus direcciones IP están listados en la siguiente tabla:"
   ]
  },
  {
   "cell_type": "markdown",
   "metadata": {},
   "source": [
    "Nombre del Servidor|Direcciones IP (IPv4, IPv6)|Entidad propietaria\n",
    ":------------------|:--------------------------|:------------------\n",
    "a.root-servers.net|198.41.0.4, 2001:503:ba3e::2:30|Verisign, Inc.\n",
    "b.root-servers.net|199.9.14.201, 2001:500:200::b|University of Southern California\n",
    "c.root-servers.net|192.33.4.12, 2001:500:2::c|Cogent Communications\n",
    "d.root-servers.net|199.7.91.13, 2001:500:2d::d|University of Maryland\n",
    "e.root-servers.net|192.203.230.10, 2001:500:a8::e|NASA (Ames Research Center)\n",
    "f.root-servers.net|192.5.5.241, 2001:500:2f::f|Internet Systems Consortium, Inc.\n",
    "g.root-servers.net|192.112.36.4, 2001:500:12::d0d|US Department of Defense (NIC)\n",
    "h.root-servers.net|198.97.190.53, 2001:500:1::53|US Army (Research Lab)\n",
    "i.root-servers.net|192.36.148.17, 2001:7fe::53|Netnod\n",
    "j.root-servers.net|192.58.128.30, 2001:503:c27::2:30|Verisign, Inc.\n",
    "k.root-servers.net|193.0.14.129, 2001:7fd::1|RIPE NCC\n",
    "l.root-servers.net|199.7.83.42, 2001:500:9f::42|ICANN\n",
    "m.root-servers.net|202.12.27.33, 2001:dc3::35|WIDE Project"
   ]
  },
  {
   "cell_type": "markdown",
   "metadata": {},
   "source": [
    "### Utilizando Scapy consultar por el registro A de www.dc.uba.ar"
   ]
  },
  {
   "cell_type": "code",
   "execution_count": 39,
   "metadata": {},
   "outputs": [],
   "source": [
    "from scapy.all import *\n",
    "\n",
    "def dnsTypeARequest(domainName, dnsServer):\n",
    "    dns = DNS(rd=1,qd=DNSQR(qname=domainName))\n",
    "    udp = UDP(sport=RandShort(), dport=53)\n",
    "    ip = IP(dst=dnsServer)\n",
    "\n",
    "    answer = sr1( ip / udp / dns , verbose=0, timeout=10)\n",
    "\n",
    "    if answer is not None and answer.haslayer(DNS) and answer[DNS].qd.qtype == 1:\n",
    "        \n",
    "        print(\"AUTHORITY\")\n",
    "        for i in range( answer[DNS].arcount):\n",
    "            print (answer[DNS].ar[i].rrname, answer[DNS].ar[i].rdata)\n",
    "            \n",
    "        print (\"NAME SERVERS\")\n",
    "        for i in range( answer[DNS].nscount):\n",
    "            print (answer[DNS].ns[i].rrname, answer[DNS].ns[i].rdata)\n",
    "        print (\"ANSWER\")\n",
    "        for i in range( answer[DNS].ancount):\n",
    "            print (answer[DNS].an[i].rrname, answer[DNS].an[i].rdata)\n",
    "\n",
    "        if answer[DNS].ancount == 0:\n",
    "            nextSteps = []\n",
    "            for i in range( answer[DNS].arcount):\n",
    "                nextSteps.append(answer[DNS].ar[i].rdata)\n",
    "            \n",
    "            return False, nextSteps\n",
    "        \n",
    "        else:\n",
    "            return True, answer[DNS].an\n",
    "    else:\n",
    "        return \"NO ANSWER\""
   ]
  },
  {
   "cell_type": "code",
   "execution_count": 40,
   "metadata": {},
   "outputs": [
    {
     "name": "stdout",
     "output_type": "stream",
     "text": [
      "AUTHORITY\n",
      "b'a.dns.ar.' 200.108.145.50\n",
      "b'a.dns.ar.' 2801:140::10\n",
      "b'ar.cctld.authdns.ripe.net.' 193.0.9.59\n",
      "b'ar.cctld.authdns.ripe.net.' 2001:67c:e0::59\n",
      "b'e.dns.ar.' 170.238.66.50\n",
      "b'e.dns.ar.' 2801:140:eeee::50\n",
      "b'c.dns.ar.' 200.108.148.50\n",
      "b'c.dns.ar.' 2801:140:10::10\n",
      "b'b.dns.ar.' 200.108.147.50\n",
      "b'b.dns.ar.' 2801:140:11::50\n",
      "b'd.dns.ar.' 192.140.126.50\n",
      "b'd.dns.ar.' 2801:140:dddd::50\n",
      "b'f.dns.ar.' 130.59.31.20\n",
      "b'f.dns.ar.' 2001:620:0:ff::20\n",
      "NAME SERVERS\n",
      "b'ar.' b'a.dns.ar.'\n",
      "b'ar.' b'ar.cctld.authdns.ripe.net.'\n",
      "b'ar.' b'e.dns.ar.'\n",
      "b'ar.' b'c.dns.ar.'\n",
      "b'ar.' b'b.dns.ar.'\n",
      "b'ar.' b'd.dns.ar.'\n",
      "b'ar.' b'f.dns.ar.'\n",
      "ANSWER\n"
     ]
    }
   ],
   "source": [
    "finished, result = dnsTypeARequest(\"www.dc.uba.ar\", \"198.41.0.4\")\n",
    "\n",
    "while finished != \"FINISHED\":\n",
    "    finished, result = f(result)\n",
    "    \n",
    "\n",
    "def f(result):\n",
    "    nextServerIPs = result\n",
    "    for ip in nextServerIPs:\n",
    "        finished, result = dnsTypeARequest(..., ip)\n",
    "        if \"FINISHED\"\n",
    "            return finished, result\n",
    "        else if \"ANSWER BUT NO FINISHED\"\n",
    "            return finished, result\n",
    "        else if \"NO ANSWER\"\n",
    "            \n",
    "    \n",
    "        \n",
    "    \n",
    "        "
   ]
  },
  {
   "cell_type": "markdown",
   "metadata": {},
   "source": [
    "## Ejercicio:\n",
    "Adaptar el código anterior de manera que, a través de sucesivas consultas iterativas se obtenga el registro\n",
    "MX de un dominio dado. Para esto, tener en cuenta que en cada consulta DNS puede tener 3 tipos de respuestas: \n",
    "1. nos devuelven los servidores DNS a los cuales seguir preguntando\n",
    "2. nos devuelven la respuesta a la consulta que estamos haciendo\n",
    "3. nos devuelven el registro SOA de la zona indicando que el registro solicitado no forma parte de la base de datos de nombres de la zona."
   ]
  }
 ],
 "metadata": {
  "kernelspec": {
   "display_name": "Python 3",
   "language": "python",
   "name": "python3"
  },
  "language_info": {
   "codemirror_mode": {
    "name": "ipython",
    "version": 3
   },
   "file_extension": ".py",
   "mimetype": "text/x-python",
   "name": "python",
   "nbconvert_exporter": "python",
   "pygments_lexer": "ipython3",
   "version": "3.8.10"
  }
 },
 "nbformat": 4,
 "nbformat_minor": 5
}
