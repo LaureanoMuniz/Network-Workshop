{
 "cells": [
  {
   "cell_type": "code",
   "execution_count": 28,
   "id": "3c693b84",
   "metadata": {},
   "outputs": [],
   "source": [
    "from scapy.all import *\n",
    "from collections import deque\n",
    "import pandas as pd"
   ]
  },
  {
   "cell_type": "markdown",
   "id": "af62f945",
   "metadata": {},
   "source": [
    "## Bienvenidxs al taller de DNS."
   ]
  },
  {
   "cell_type": "markdown",
   "id": "faf16e03",
   "metadata": {},
   "source": [
    "A lo largo del taller van a poder probar los diferentes comandos que nos provee la librería Scapy para realizar consultas DNS. El objetivo es que al finalizar el taller tengan el código necesario para poder hacer los experimentos y el informe.\n",
    "\n",
    "El proceso de resolución de nombres consiste en sucesivas consultas y respuestas por parte de todos los servidores DNS involucrados. Las consultas suelen ser recursivas cuando las PC quieren resolver un nombre y le preguntan al Resolver local y suelen ser iterativas cuando los Resolvers le pasan las consultas a los servidores Autoritativos responsables de cada zona. Por esa razón, en una consulta determinada, puede haber subconsultas recursivas e iterativas. Además de los servidores autoritativos de cada zona, el sistema DNS no podría funcionar si no existieran\n",
    "servidores por encima de toda la jerarquía de zonas que funcionen como punto de partida para comenzar las\n",
    "consultas iterativas. Estos servidores se llaman Root Name Servers y tienen direcciones IP asignadas fijas,\n",
    "que nunca cambian de manera que no haga falta hacer una consulta DNS para resolverlos porque sino no se\n",
    "podría empezar. Estos servidores y sus direcciones IP están listados en la siguiente tabla:"
   ]
  },
  {
   "cell_type": "markdown",
   "id": "7cf42a96",
   "metadata": {},
   "source": [
    "Nombre del Servidor|Direcciones IP (IPv4, IPv6)|Entidad propietaria\n",
    ":------------------|:--------------------------|:------------------\n",
    "a.root-servers.net|198.41.0.4, 2001:503:ba3e::2:30|Verisign, Inc.\n",
    "b.root-servers.net|199.9.14.201, 2001:500:200::b|University of Southern California\n",
    "c.root-servers.net|192.33.4.12, 2001:500:2::c|Cogent Communications\n",
    "d.root-servers.net|199.7.91.13, 2001:500:2d::d|University of Maryland\n",
    "e.root-servers.net|192.203.230.10, 2001:500:a8::e|NASA (Ames Research Center)\n",
    "f.root-servers.net|192.5.5.241, 2001:500:2f::f|Internet Systems Consortium, Inc.\n",
    "g.root-servers.net|192.112.36.4, 2001:500:12::d0d|US Department of Defense (NIC)\n",
    "h.root-servers.net|198.97.190.53, 2001:500:1::53|US Army (Research Lab)\n",
    "i.root-servers.net|192.36.148.17, 2001:7fe::53|Netnod\n",
    "j.root-servers.net|192.58.128.30, 2001:503:c27::2:30|Verisign, Inc.\n",
    "k.root-servers.net|193.0.14.129, 2001:7fd::1|RIPE NCC\n",
    "l.root-servers.net|199.7.83.42, 2001:500:9f::42|ICANN\n",
    "m.root-servers.net|202.12.27.33, 2001:dc3::35|WIDE Project"
   ]
  },
  {
   "cell_type": "markdown",
   "id": "436fc3ef",
   "metadata": {},
   "source": [
    "### Utilizando Scapy consultar por el registro A de www.dc.uba.ar"
   ]
  },
  {
   "cell_type": "code",
   "execution_count": 17,
   "id": "e38cb445",
   "metadata": {},
   "outputs": [],
   "source": [
    "def dnsRequest(domainName, dnsServer, requestType):\n",
    "    dns = DNS(rd=1,qd=DNSQR(qname=domainName, qtype=requestType))\n",
    "    udp = UDP(sport=RandShort(), dport=53)\n",
    "    try:\n",
    "        ip = IP(dst=dnsServer)\n",
    "    except:\n",
    "        ip = IPv6(dst=dnsServer)\n",
    "\n",
    "    answer = sr1( ip / udp / dns , verbose=0, timeout=10)\n",
    "\n",
    "    if answer is not None and answer.haslayer(DNS) and answer[DNS].qd.qtype == requestType:\n",
    "        \n",
    "        if answer[DNS].ancount == 0:\n",
    "            nextSteps = set()\n",
    "            for i in range( answer[DNS].arcount):\n",
    "                nextSteps.add(answer[DNS].ar[i].rdata)\n",
    "            \n",
    "            return \"ANSWER BUT NO FINISHED\", nextSteps\n",
    "        \n",
    "        else:\n",
    "            return \"FINISHED\", answer[DNS]\n",
    "    else:\n",
    "        return \"NO ANSWER\", None"
   ]
  },
  {
   "cell_type": "code",
   "execution_count": 18,
   "id": "71f55cb0",
   "metadata": {},
   "outputs": [],
   "source": [
    "def dig(url,root,requestType):\n",
    "    visited = set()\n",
    "    to_Visit = deque()\n",
    "    to_Visit.append(root)\n",
    "    \n",
    "    height = 0\n",
    "    totalAttempts = 0\n",
    "    failedAttempts = 0\n",
    "    \n",
    "    while len(to_Visit) != 0:\n",
    "        nextIP = to_Visit.pop()\n",
    "        height += 1\n",
    "        totalAttempts += 1\n",
    "        \n",
    "        visited.add(nextIP)\n",
    "        #print(nextIP)\n",
    "        \n",
    "        finished, result = dnsRequest(url,nextIP,requestType)\n",
    "        if (finished == \"FINISHED\"):\n",
    "            return result, height, failedAttempts/totalAttempts\n",
    "        elif (finished == \"ANSWER BUT NO FINISHED\"):\n",
    "            \n",
    "            for ip in result: \n",
    "                if ip not in visited:\n",
    "                    to_Visit.append(ip)\n",
    "                    \n",
    "        else:\n",
    "            height -= 1\n",
    "            failedAttempts += 1\n",
    "    raise Exception(\"No obtuvo respuesta\")"
   ]
  },
  {
   "cell_type": "code",
   "execution_count": 23,
   "id": "4d06d62e-415c-437c-909b-1a1e45c279bf",
   "metadata": {},
   "outputs": [],
   "source": [
    "def getIP (url):\n",
    "    root = \"198.41.0.4\"\n",
    "    requestTypeA = 1\n",
    "    \n",
    "    a_result, _, _ = dig(url,root,requestTypeA)\n",
    "    \n",
    "    for i in range( a_result.ancount):\n",
    "        if(a_result.an[i].type == requestTypeA):\n",
    "            return a_result.an[i].rdata"
   ]
  },
  {
   "cell_type": "code",
   "execution_count": 36,
   "id": "fd123e1a",
   "metadata": {},
   "outputs": [
    {
     "name": "stderr",
     "output_type": "stream",
     "text": [
      "WARNING: Mac address to reach destination not found. Using broadcast.\n"
     ]
    },
    {
     "ename": "Exception",
     "evalue": "No obtuvo respuesta",
     "output_type": "error",
     "traceback": [
      "\u001b[1;31m---------------------------------------------------------------------------\u001b[0m",
      "\u001b[1;31mException\u001b[0m                                 Traceback (most recent call last)",
      "Input \u001b[1;32mIn [36]\u001b[0m, in \u001b[0;36m<cell line: 6>\u001b[1;34m()\u001b[0m\n\u001b[0;32m      4\u001b[0m requestTypeA \u001b[38;5;241m=\u001b[39m \u001b[38;5;241m1\u001b[39m\n\u001b[0;32m      5\u001b[0m root \u001b[38;5;241m=\u001b[39m \u001b[38;5;124m\"\u001b[39m\u001b[38;5;124m198.41.0.4\u001b[39m\u001b[38;5;124m\"\u001b[39m\n\u001b[1;32m----> 6\u001b[0m mx_result, height, failureProportion \u001b[38;5;241m=\u001b[39m \u001b[43mdig\u001b[49m\u001b[43m(\u001b[49m\u001b[43mtarget_url\u001b[49m\u001b[43m,\u001b[49m\u001b[43mroot\u001b[49m\u001b[43m,\u001b[49m\u001b[43mrequestTypeMX\u001b[49m\u001b[43m)\u001b[49m\n",
      "Input \u001b[1;32mIn [18]\u001b[0m, in \u001b[0;36mdig\u001b[1;34m(url, root, requestType)\u001b[0m\n\u001b[0;32m     28\u001b[0m         height \u001b[38;5;241m-\u001b[39m\u001b[38;5;241m=\u001b[39m \u001b[38;5;241m1\u001b[39m\n\u001b[0;32m     29\u001b[0m         failedAttempts \u001b[38;5;241m+\u001b[39m\u001b[38;5;241m=\u001b[39m \u001b[38;5;241m1\u001b[39m\n\u001b[1;32m---> 30\u001b[0m \u001b[38;5;28;01mraise\u001b[39;00m \u001b[38;5;167;01mException\u001b[39;00m(\u001b[38;5;124m\"\u001b[39m\u001b[38;5;124mNo obtuvo respuesta\u001b[39m\u001b[38;5;124m\"\u001b[39m)\n",
      "\u001b[1;31mException\u001b[0m: No obtuvo respuesta"
     ]
    }
   ],
   "source": [
    "# 1 -> A, 15 -> MX\n",
    "target_url = \"dc.uba.ar\"\n",
    "requestTypeMX = 15\n",
    "requestTypeA = 1\n",
    "root = \"198.41.0.4\"\n",
    "mx_result, height, failureProportion = dig(target_url,root,requestTypeMX)"
   ]
  },
  {
   "cell_type": "code",
   "execution_count": 25,
   "id": "8fdf5d6a",
   "metadata": {},
   "outputs": [],
   "source": [
    "webServerIP = getIP(target_url)\n",
    "\n",
    "mailServerIPs = {}\n",
    "for i in range( mx_result.ancount):\n",
    "    if(mx_result.an[i].type == requestTypeMX):\n",
    "        mail_server_name = mx_result.an[i].exchange.decode(\"utf-8\")\n",
    "        mailServerIPs[mail_server_name] = getIP(mail_server_name)"
   ]
  },
  {
   "cell_type": "code",
   "execution_count": 34,
   "id": "6a1a218d-6adf-47ad-9a09-285166bb0379",
   "metadata": {},
   "outputs": [],
   "source": [
    "mailServerIPsPath = \"./Resultados/\" + target_url + \"-MailServerIPs.csv\"\n",
    "resultPath = \"./Resultados/\" + target_url + \"-Results.csv\"\n",
    "\n",
    "df1 = pd.DataFrame([{\"Domain\": target_url, \"Height\": height, \"Failure proportion\": failureProportion, \"Web Server IP\": webServerIP, \"Mail Server IPs Path\":mailServerIPsPath}])\n",
    "df2 =  pd.DataFrame([{\"Mail Server\": mailServer, \"IP\": ip} for mailServer, ip in mailServerIPs.items()])\n",
    "\n",
    "df1.to_csv(resultPath, index = False)\n",
    "df2.to_csv(mailServerIPsPath, index = False)"
   ]
  },
  {
   "cell_type": "markdown",
   "id": "a680f6bb",
   "metadata": {},
   "source": [
    "## Ejercicio:\n",
    "Adaptar el código anterior de manera que, a través de sucesivas consultas iterativas se obtenga el registro\n",
    "MX de un dominio dado. Para esto, tener en cuenta que en cada consulta DNS puede tener 3 tipos de respuestas: \n",
    "1. nos devuelven los servidores DNS a los cuales seguir preguntando\n",
    "2. nos devuelven la respuesta a la consulta que estamos haciendo\n",
    "3. nos devuelven el registro SOA de la zona indicando que el registro solicitado no forma parte de la base de datos de nombres de la zona."
   ]
  }
 ],
 "metadata": {
  "kernelspec": {
   "display_name": "Python 3 (ipykernel)",
   "language": "python",
   "name": "python3"
  },
  "language_info": {
   "codemirror_mode": {
    "name": "ipython",
    "version": 3
   },
   "file_extension": ".py",
   "mimetype": "text/x-python",
   "name": "python",
   "nbconvert_exporter": "python",
   "pygments_lexer": "ipython3",
   "version": "3.10.4"
  }
 },
 "nbformat": 4,
 "nbformat_minor": 5
}
