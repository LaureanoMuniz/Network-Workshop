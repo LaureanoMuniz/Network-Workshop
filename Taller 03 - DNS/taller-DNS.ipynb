{
 "cells": [
  {
   "cell_type": "code",
   "execution_count": 15,
   "id": "10fdaaf6",
   "metadata": {},
   "outputs": [],
   "source": [
    "from scapy.all import *\n",
    "from collections import deque"
   ]
  },
  {
   "cell_type": "markdown",
   "id": "7605d05f",
   "metadata": {},
   "source": [
    "## Bienvenidxs al taller de DNS."
   ]
  },
  {
   "cell_type": "markdown",
   "id": "8d18bf88",
   "metadata": {},
   "source": [
    "A lo largo del taller van a poder probar los diferentes comandos que nos provee la librería Scapy para realizar consultas DNS. El objetivo es que al finalizar el taller tengan el código necesario para poder hacer los experimentos y el informe.\n",
    "\n",
    "El proceso de resolución de nombres consiste en sucesivas consultas y respuestas por parte de todos los servidores DNS involucrados. Las consultas suelen ser recursivas cuando las PC quieren resolver un nombre y le preguntan al Resolver local y suelen ser iterativas cuando los Resolvers le pasan las consultas a los servidores Autoritativos responsables de cada zona. Por esa razón, en una consulta determinada, puede haber subconsultas recursivas e iterativas. Además de los servidores autoritativos de cada zona, el sistema DNS no podría funcionar si no existieran\n",
    "servidores por encima de toda la jerarquía de zonas que funcionen como punto de partida para comenzar las\n",
    "consultas iterativas. Estos servidores se llaman Root Name Servers y tienen direcciones IP asignadas fijas,\n",
    "que nunca cambian de manera que no haga falta hacer una consulta DNS para resolverlos porque sino no se\n",
    "podría empezar. Estos servidores y sus direcciones IP están listados en la siguiente tabla:"
   ]
  },
  {
   "cell_type": "markdown",
   "id": "09df54ff",
   "metadata": {},
   "source": [
    "Nombre del Servidor|Direcciones IP (IPv4, IPv6)|Entidad propietaria\n",
    ":------------------|:--------------------------|:------------------\n",
    "a.root-servers.net|198.41.0.4, 2001:503:ba3e::2:30|Verisign, Inc.\n",
    "b.root-servers.net|199.9.14.201, 2001:500:200::b|University of Southern California\n",
    "c.root-servers.net|192.33.4.12, 2001:500:2::c|Cogent Communications\n",
    "d.root-servers.net|199.7.91.13, 2001:500:2d::d|University of Maryland\n",
    "e.root-servers.net|192.203.230.10, 2001:500:a8::e|NASA (Ames Research Center)\n",
    "f.root-servers.net|192.5.5.241, 2001:500:2f::f|Internet Systems Consortium, Inc.\n",
    "g.root-servers.net|192.112.36.4, 2001:500:12::d0d|US Department of Defense (NIC)\n",
    "h.root-servers.net|198.97.190.53, 2001:500:1::53|US Army (Research Lab)\n",
    "i.root-servers.net|192.36.148.17, 2001:7fe::53|Netnod\n",
    "j.root-servers.net|192.58.128.30, 2001:503:c27::2:30|Verisign, Inc.\n",
    "k.root-servers.net|193.0.14.129, 2001:7fd::1|RIPE NCC\n",
    "l.root-servers.net|199.7.83.42, 2001:500:9f::42|ICANN\n",
    "m.root-servers.net|202.12.27.33, 2001:dc3::35|WIDE Project"
   ]
  },
  {
   "cell_type": "markdown",
   "id": "d7952a4f",
   "metadata": {},
   "source": [
    "### Utilizando Scapy consultar por el registro A de www.dc.uba.ar"
   ]
  },
  {
   "cell_type": "code",
   "execution_count": 36,
   "id": "d286eecb",
   "metadata": {},
   "outputs": [],
   "source": [
    "def dnsTypeARequest(domainName, dnsServer):\n",
    "    dns = DNS(rd=1,qd=DNSQR(qname=domainName, qtype=\"MX\"))\n",
    "    udp = UDP(sport=RandShort(), dport=53)\n",
    "    try:\n",
    "        ip = IP(dst=dnsServer)\n",
    "    except:\n",
    "        ip = IPv6(dst=dnsServer)\n",
    "\n",
    "    answer = sr1( ip / udp / dns , verbose=0, timeout=10)\n",
    "\n",
    "    if answer is not None and answer.haslayer(DNS) and answer[DNS].qd.qtype == 15:\n",
    "        \n",
    "        if answer[DNS].ancount == 0:\n",
    "            nextSteps = set()\n",
    "            for i in range( answer[DNS].arcount):\n",
    "                nextSteps.add(answer[DNS].ar[i].rdata)\n",
    "            \n",
    "            return \"ANSWER BUT NO FINISHED\", nextSteps\n",
    "        \n",
    "        else:\n",
    "            return \"FINISHED\", answer[DNS].an\n",
    "    else:\n",
    "        return \"NO ANSWER\", None"
   ]
  },
  {
   "cell_type": "code",
   "execution_count": 19,
   "id": "81f6ea37",
   "metadata": {},
   "outputs": [],
   "source": [
    "def DFS_XX(visited, to_Visit):\n",
    "    while len(to_Visit) != 0:\n",
    "        nextIP = to_Visit.pop()\n",
    "        visited.add(nextIP)\n",
    "        print(nextIP)\n",
    "        finished, result = dnsTypeARequest(\"www.dc.uba.ar\",nextIP)\n",
    "        if (finished == \"FINISHED\"):\n",
    "            return result\n",
    "        elif (finished == \"ANSWER BUT NO FINISHED\"):\n",
    "            for ip in result: \n",
    "                if ip not in visited:\n",
    "                    to_Visit.append(ip)\n",
    "    raise Exception(\"No obtuvo respuesta\")"
   ]
  },
  {
   "cell_type": "code",
   "execution_count": 37,
   "id": "10b83621",
   "metadata": {},
   "outputs": [
    {
     "name": "stdout",
     "output_type": "stream",
     "text": [
      "130.59.31.20\n",
      "157.92.6.1\n",
      "2001:1318:100c:1::1\n"
     ]
    },
    {
     "name": "stderr",
     "output_type": "stream",
     "text": [
      "WARNING: No route found for IPv6 destination 2001:1318:100c:1::1 (no default route?)\n",
      "WARNING: No route found for IPv6 destination 2001:1318:100c:1::1 (no default route?)\n",
      "WARNING: more No route found for IPv6 destination 2001:1318:100c:1::1 (no default route?)\n"
     ]
    },
    {
     "name": "stdout",
     "output_type": "stream",
     "text": [
      "157.92.4.1\n",
      "###[ DNS Resource Record ]### \n",
      "  rrname    = 'www.dc.uba.ar.'\n",
      "  type      = CNAME\n",
      "  rclass    = IN\n",
      "  ttl       = 600\n",
      "  rdlen     = None\n",
      "  rdata     = 'www-1.dc.uba.ar.'\n",
      "###[ DNS Resource Record ]### \n",
      "  rrname    = 'www-1.dc.uba.ar.'\n",
      "  type      = CNAME\n",
      "  rclass    = IN\n",
      "  ttl       = 600\n",
      "  rdlen     = None\n",
      "  rdata     = 'dc.uba.ar.'\n",
      "###[ DNS MX Resource Record ]### \n",
      "  rrname    = 'dc.uba.ar.'\n",
      "  type      = MX\n",
      "  rclass    = IN\n",
      "  ttl       = 600\n",
      "  rdlen     = None\n",
      "  preference= 10\n",
      "  exchange  = 'mta1.fcen.uba.ar.'\n",
      "###[ DNS MX Resource Record ]### \n",
      "     rrname    = 'dc.uba.ar.'\n",
      "     type      = MX\n",
      "     rclass    = IN\n",
      "     ttl       = 600\n",
      "     rdlen     = None\n",
      "     preference= 5\n",
      "     exchange  = 'mta0.fcen.uba.ar.'\n",
      "\n"
     ]
    }
   ],
   "source": [
    "visited = set()\n",
    "to_Visit = deque()\n",
    "finished, result = dnsTypeARequest(\"fschlottmann@dc.uba.ar\", \"198.41.0.4\")\n",
    "\n",
    "if finished == \"NO ANSWER\":\n",
    "    raise Exception(\"La primera iteración no obtuvo respuesta\")\n",
    "elif finished == \"FINISHED\":\n",
    "    raise Exception(\"La primera iteración obtuvo la respuesta\")\n",
    "else:\n",
    "    for ip in result: \n",
    "        to_Visit.append(ip)\n",
    "        \n",
    "result_ip = DFS_XX(visited,to_Visit)\n",
    "\n",
    "result_ip.show()"
   ]
  },
  {
   "cell_type": "markdown",
   "id": "db1c1591",
   "metadata": {},
   "source": [
    "## Ejercicio:\n",
    "Adaptar el código anterior de manera que, a través de sucesivas consultas iterativas se obtenga el registro\n",
    "MX de un dominio dado. Para esto, tener en cuenta que en cada consulta DNS puede tener 3 tipos de respuestas: \n",
    "1. nos devuelven los servidores DNS a los cuales seguir preguntando\n",
    "2. nos devuelven la respuesta a la consulta que estamos haciendo\n",
    "3. nos devuelven el registro SOA de la zona indicando que el registro solicitado no forma parte de la base de datos de nombres de la zona."
   ]
  }
 ],
 "metadata": {
  "kernelspec": {
   "display_name": "Python 3 (ipykernel)",
   "language": "python",
   "name": "python3"
  },
  "language_info": {
   "codemirror_mode": {
    "name": "ipython",
    "version": 3
   },
   "file_extension": ".py",
   "mimetype": "text/x-python",
   "name": "python",
   "nbconvert_exporter": "python",
   "pygments_lexer": "ipython3",
   "version": "3.10.4"
  }
 },
 "nbformat": 4,
 "nbformat_minor": 5
}
